{
 "cells": [
  {
   "cell_type": "markdown",
   "metadata": {},
   "source": [
    "*contents_from_ipynb*\n",
    "\n",
    "# Create TABLE OF CONTENTS\n",
    "\n",
    "Takes a `.ipynb` file and creates a table of contents\n",
    "___"
   ]
  },
  {
   "cell_type": "markdown",
   "metadata": {},
   "source": [
    "# Imports"
   ]
  },
  {
   "cell_type": "code",
   "execution_count": 2,
   "metadata": {},
   "outputs": [],
   "source": [
    "__author__ = 'Jaun van Heerden'\n",
    "from tkinter.filedialog import askopenfilename\n",
    "import json\n",
    "from collections import OrderedDict"
   ]
  },
  {
   "cell_type": "markdown",
   "metadata": {},
   "source": [
    "# Code"
   ]
  },
  {
   "cell_type": "code",
   "execution_count": 48,
   "metadata": {},
   "outputs": [
    {
     "name": "stdout",
     "output_type": "stream",
     "text": [
      "___\n",
      "<h1 id=\"Contents\">Contents</h1>\n",
      "\n",
      "___\n",
      "<h1 id=\"heading\">heading</h1>\n",
      "\n",
      "___\n",
      "<h2 id=\"heading_0\">heading</h2>\n",
      "\n",
      "# Contents\n",
      "# [Contents](#Contents)\n",
      "# [heading](#heading)\n",
      "## [heading](#heading_0)\n"
     ]
    }
   ],
   "source": [
    "# TODO add comments\n",
    "\n",
    "store = OrderedDict()\n",
    "\n",
    "with open(askopenfilename(), encoding=\"utf8\") as f:\n",
    "    data = json.load(f)\n",
    "    for cell in data['cells']:\n",
    "      \n",
    "        if cell['cell_type'] == 'markdown':\n",
    "            if cell['source']:\n",
    "                if cell['source'][0].startswith('#'):\n",
    "                    content = cell['source'][0]\n",
    "                    count = content.count(\"#\")\n",
    "                    content = content.replace(\"#\", '').strip()\n",
    "                    content_under = content.replace(\" \", \"_\")\n",
    "                    content_under_base = content_under\n",
    "\n",
    "                    i = 0\n",
    "                    while content_under in store:\n",
    "                        content_under = content_under_base + '_' + str(i)\n",
    "                        i += 1\n",
    "\n",
    "                    store[content_under] = (content, count)\n",
    "\n",
    "                    print(f'___\\n<h{count} id=\"{content_under}\">{content}</h{count}>\\n')\n",
    "\n",
    "print('CONTENTS:\\n\\n# Contents')\n",
    "for content_under, (content, count) in store.items():\n",
    "    print('#' * count + f\" [{content}](#{content_under})\")"
   ]
  }
 ],
 "metadata": {
  "interpreter": {
   "hash": "369f2c481f4da34e4445cda3fffd2e751bd1c4d706f27375911949ba6bb62e1c"
  },
  "kernelspec": {
   "display_name": "Python 3.10.4 64-bit",
   "language": "python",
   "name": "python3"
  },
  "language_info": {
   "codemirror_mode": {
    "name": "ipython",
    "version": 3
   },
   "file_extension": ".py",
   "mimetype": "text/x-python",
   "name": "python",
   "nbconvert_exporter": "python",
   "pygments_lexer": "ipython3",
   "version": "3.10.4"
  },
  "orig_nbformat": 4
 },
 "nbformat": 4,
 "nbformat_minor": 2
}
